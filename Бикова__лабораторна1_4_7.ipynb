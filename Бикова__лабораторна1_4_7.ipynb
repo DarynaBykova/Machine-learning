{
  "nbformat": 4,
  "nbformat_minor": 0,
  "metadata": {
    "colab": {
      "provenance": []
    },
    "kernelspec": {
      "name": "python3",
      "display_name": "Python 3"
    },
    "language_info": {
      "name": "python"
    }
  },
  "cells": [
    {
      "cell_type": "code",
      "execution_count": null,
      "metadata": {
        "id": "Q0gVjJ8nTFQ2"
      },
      "outputs": [],
      "source": []
    },
    {
      "cell_type": "markdown",
      "source": [
        "**Варіант №1**"
      ],
      "metadata": {
        "id": "TA-IQjEbTdaZ"
      }
    },
    {
      "cell_type": "markdown",
      "source": [
        "Завдання 1.\n",
        "1. Створіть одновимірний масив (вектор) з першими 10-ма натуральними числами та\n",
        "виведіть його значення.\n"
      ],
      "metadata": {
        "id": "QuF1iCRFTh2W"
      }
    },
    {
      "cell_type": "code",
      "source": [
        "import numpy as np\n",
        "\n",
        "vector = np.arange(1, 11)\n",
        "print(vector)"
      ],
      "metadata": {
        "colab": {
          "base_uri": "https://localhost:8080/"
        },
        "id": "DcBO6NdgXnyW",
        "outputId": "aab863e5-c914-4209-a309-d7a7a3ea6943"
      },
      "execution_count": 1,
      "outputs": [
        {
          "output_type": "stream",
          "name": "stdout",
          "text": [
            "[ 1  2  3  4  5  6  7  8  9 10]\n"
          ]
        }
      ]
    },
    {
      "cell_type": "markdown",
      "source": [
        "Завдання 2.\n",
        "1. Створіть двовимірний масив (матрицю) розміром 4x4, заповніть його одиницями та\n",
        "виведіть його значення.\n"
      ],
      "metadata": {
        "id": "jS-z37R9YcoS"
      }
    },
    {
      "cell_type": "code",
      "source": [
        "import numpy as np\n",
        "\n",
        "matrix = np.ones((3, 3), dtype=int)\n",
        "print(matrix)"
      ],
      "metadata": {
        "colab": {
          "base_uri": "https://localhost:8080/"
        },
        "id": "3d-KsUPPYoFr",
        "outputId": "59457dd4-24a5-4993-c4ce-6ab0ae46337e"
      },
      "execution_count": 2,
      "outputs": [
        {
          "output_type": "stream",
          "name": "stdout",
          "text": [
            "[[1 1 1]\n",
            " [1 1 1]\n",
            " [1 1 1]]\n"
          ]
        }
      ]
    },
    {
      "cell_type": "markdown",
      "source": [
        "Завдання 3\n",
        "1. Створіть масив розміром 4x4, заповніть його випадковими цілими числами в діапазоні\n",
        "від 1 до 5 та виведіть його значення."
      ],
      "metadata": {
        "id": "oeGUEGnWY4cl"
      }
    },
    {
      "cell_type": "code",
      "source": [
        "import numpy as np\n",
        "\n",
        "matrix = np.random.randint(6, size=(4,4))\n",
        "print(matrix)"
      ],
      "metadata": {
        "colab": {
          "base_uri": "https://localhost:8080/"
        },
        "id": "e9vuXPdGY81O",
        "outputId": "ab82fb86-751a-4a69-f7f5-26db93aa663c"
      },
      "execution_count": 3,
      "outputs": [
        {
          "output_type": "stream",
          "name": "stdout",
          "text": [
            "[[1 5 3 0]\n",
            " [1 3 3 0]\n",
            " [2 0 4 4]\n",
            " [2 0 3 0]]\n"
          ]
        }
      ]
    },
    {
      "cell_type": "markdown",
      "source": [
        "Завдання 4\n",
        "1. Створіть масив розміром 3x3, заповніть його випадковими дійсними числами в\n",
        "діапазоні від 0 до 1 та виведіть його значення."
      ],
      "metadata": {
        "id": "xAaO7JOmZOna"
      }
    },
    {
      "cell_type": "code",
      "source": [
        "import numpy as np\n",
        "\n",
        "matrix = np.random.rand(3, 3)\n",
        "print(matrix)"
      ],
      "metadata": {
        "colab": {
          "base_uri": "https://localhost:8080/"
        },
        "id": "9qorBrG2ZUws",
        "outputId": "8eab3aba-55c7-499c-9f3d-1557c6b72ed7"
      },
      "execution_count": 4,
      "outputs": [
        {
          "output_type": "stream",
          "name": "stdout",
          "text": [
            "[[0.5583393  0.83022172 0.5111889 ]\n",
            " [0.20141645 0.69936123 0.22908356]\n",
            " [0.90051735 0.21747573 0.51298729]]\n"
          ]
        }
      ]
    },
    {
      "cell_type": "markdown",
      "source": [
        "Завдання 5\n",
        "1. Створіть два одновимірних масиви розміром 6, заповніть їх випадковими цілими\n",
        "числами в діапазоні від 1 до 20 та виконайте на них поелементні операції додавання,\n",
        "віднімання та множення."
      ],
      "metadata": {
        "id": "h09boY9WZwVq"
      }
    },
    {
      "cell_type": "code",
      "source": [
        "import numpy as np\n",
        "\n",
        "a = np.random.randint(1, 21, size=6)\n",
        "b = np.random.randint(1, 21, size=6)\n",
        "\n",
        "add = a + b\n",
        "s = a - b\n",
        "m = a * b\n",
        "\n",
        "print(\"Перший масив:\", a)\n",
        "print(\"Другий масив:\", b)\n",
        "print(\"Додавання:\", add)\n",
        "print(\"Віднімання:\", s)\n",
        "print(\"Множення:\", m)"
      ],
      "metadata": {
        "colab": {
          "base_uri": "https://localhost:8080/"
        },
        "id": "U7PRc6dPZ1EF",
        "outputId": "fbd3c062-4ca4-47cb-f41c-d01284f19434"
      },
      "execution_count": 5,
      "outputs": [
        {
          "output_type": "stream",
          "name": "stdout",
          "text": [
            "Перший масив: [ 6  1 17 20  2  6]\n",
            "Другий масив: [ 2  3  8 16  7  1]\n",
            "Додавання: [ 8  4 25 36  9  7]\n",
            "Віднімання: [ 4 -2  9  4 -5  5]\n",
            "Множення: [ 12   3 136 320  14   6]\n"
          ]
        }
      ]
    },
    {
      "cell_type": "markdown",
      "source": [
        "Завдання 6\n",
        "1. Створіть два матриці 2x2, заповніть їх довільними цілими числами та знайдіть їх\n",
        "добуток.\n"
      ],
      "metadata": {
        "id": "EK4qybsVaz9y"
      }
    },
    {
      "cell_type": "code",
      "source": [
        "import numpy as np\n",
        "\n",
        "a = np.matrix([[1, 2], [4, 5]])\n",
        "b = np.matrix([[7, 8],[2, 3]])\n",
        "\n",
        "c = np.dot(a, b)\n",
        "print(\"Добуток матриць:\")\n",
        "print(c)"
      ],
      "metadata": {
        "colab": {
          "base_uri": "https://localhost:8080/"
        },
        "id": "-d13_1uEa6or",
        "outputId": "112f4a85-ae62-4f50-8ab8-da0802a9048e"
      },
      "execution_count": 8,
      "outputs": [
        {
          "output_type": "stream",
          "name": "stdout",
          "text": [
            "Добуток матриць:\n",
            "[[11 14]\n",
            " [38 47]]\n"
          ]
        }
      ]
    },
    {
      "cell_type": "markdown",
      "source": [
        "Завдання 7\n",
        "1. Створіть дві матриці розміром 3x2 та 2x4, заповніть їх випадковими цілими числами\n",
        "в діапазоні від 1 до 10 та перемножте їх між собою.\n"
      ],
      "metadata": {
        "id": "B4dXyt_Ob1wJ"
      }
    },
    {
      "cell_type": "code",
      "source": [
        "import numpy as np\n",
        "\n",
        "a = np.matrix(np.random.randint(1, 11, size=(3, 2)))\n",
        "print(\"Матриця А:\")\n",
        "print(a)\n",
        "\n",
        "b = np.matrix(np.random.randint(1, 11, size=(2, 4)))\n",
        "print(\"\\nМатриця В:\")\n",
        "print(b)\n",
        "\n",
        "c = np.dot(a, b)\n",
        "print(\"\\nДобуток матриць A і B:\")\n",
        "print(c)"
      ],
      "metadata": {
        "colab": {
          "base_uri": "https://localhost:8080/"
        },
        "id": "RtKjXEQJb70D",
        "outputId": "b2ef215b-f6b4-40d0-bfad-401e8479b9fe"
      },
      "execution_count": 9,
      "outputs": [
        {
          "output_type": "stream",
          "name": "stdout",
          "text": [
            "Перша матриця:\n",
            "[[10  7]\n",
            " [ 6  9]\n",
            " [ 9  3]]\n",
            "\n",
            "Друга матриця:\n",
            "[[ 8  7  9 10]\n",
            " [ 6  7  6  7]]\n",
            "\n",
            "Добуток матриць A і B:\n",
            "[[122 119 132 149]\n",
            " [102 105 108 123]\n",
            " [ 90  84  99 111]]\n"
          ]
        }
      ]
    },
    {
      "cell_type": "markdown",
      "source": [
        "Завдання 8\n",
        "1. Створіть матрицю розміром 2x2, заповніть її випадковими цілими числами в діапазоні\n",
        "від 1 до 7 та знайдіть її обернену матрицю."
      ],
      "metadata": {
        "id": "40owm8Rad9Db"
      }
    },
    {
      "cell_type": "code",
      "source": [
        "import numpy as np\n",
        "\n",
        "a = np.matrix(np.random.randint(1, 8, size=(2, 2)))\n",
        "print(\"Матриця:\")\n",
        "a_inv = np.linalg.inv(a)\n",
        "print(a)\n",
        "print(\"Обернена матриця:\")\n",
        "print(a_inv)"
      ],
      "metadata": {
        "colab": {
          "base_uri": "https://localhost:8080/"
        },
        "id": "i0EY5eCFeDBv",
        "outputId": "fad56fdb-f0a4-4f98-f0fd-d15e7e9105f3"
      },
      "execution_count": 13,
      "outputs": [
        {
          "output_type": "stream",
          "name": "stdout",
          "text": [
            "Матриця:\n",
            "[[3 1]\n",
            " [6 6]]\n",
            "Обернена матриця:\n",
            "[[ 0.5        -0.08333333]\n",
            " [-0.5         0.25      ]]\n"
          ]
        }
      ]
    },
    {
      "cell_type": "markdown",
      "source": [
        "Завдання 9.\n",
        "1. Створіть матрицю розміром 3x3, заповніть її випадковими дійсними числами в\n",
        "діапазоні від 0 до 1 та транспонуйте її.\n"
      ],
      "metadata": {
        "id": "TP44sbKEfTS_"
      }
    },
    {
      "cell_type": "code",
      "source": [
        "import numpy as np\n",
        "\n",
        "a = np.array([[0.1, 0.2, 0.3], [0.4, 0.5, 0.6], [0.7, 0.8, 0.9]])\n",
        "print(\"Матриця a:\")\n",
        "print(a)\n",
        "a_t = a.transpose()\n",
        "print(\"Транспонована матриця:\")\n",
        "print(a_t)"
      ],
      "metadata": {
        "colab": {
          "base_uri": "https://localhost:8080/"
        },
        "id": "aPdfEf-3fWiO",
        "outputId": "6e3bd65b-9b66-4930-8547-2311e14dd9e2"
      },
      "execution_count": 14,
      "outputs": [
        {
          "output_type": "stream",
          "name": "stdout",
          "text": [
            "Матриця a:\n",
            "[[0.1 0.2 0.3]\n",
            " [0.4 0.5 0.6]\n",
            " [0.7 0.8 0.9]]\n",
            "Транспонована матриця:\n",
            "[[0.1 0.4 0.7]\n",
            " [0.2 0.5 0.8]\n",
            " [0.3 0.6 0.9]]\n"
          ]
        }
      ]
    },
    {
      "cell_type": "markdown",
      "source": [
        "Завдання 10\n",
        "1. Створіть матрицю розміром 3x4 та вектор розміром 4 x1, заповніть їх випадковими\n",
        "цілими числами в діапазоні від 1 до 10 та знайдіть добуток матриці на вектор.\n"
      ],
      "metadata": {
        "id": "HKssnp0LhM_K"
      }
    },
    {
      "cell_type": "code",
      "source": [
        "import numpy as np\n",
        "\n",
        "a = np.random.randint(1, 11, size=(3, 4))\n",
        "print(\"Матриця:\")\n",
        "print(a)\n",
        "\n",
        "v = np.random.randint(1, 11, size=(4, 1))\n",
        "print(\"\\nВектор:\")\n",
        "print(v)\n",
        "\n",
        "c = np.dot(a, v)\n",
        "print(\"\\nДобуток матриці на вектор:\")\n",
        "print(c)\n"
      ],
      "metadata": {
        "colab": {
          "base_uri": "https://localhost:8080/"
        },
        "id": "5c9SakX7hQES",
        "outputId": "7e35ad3d-5475-4cf1-a047-8577f4518074"
      },
      "execution_count": 15,
      "outputs": [
        {
          "output_type": "stream",
          "name": "stdout",
          "text": [
            "Матриця:\n",
            "[[10  3  1  9]\n",
            " [ 2  3  4 10]\n",
            " [ 1  6  3  4]]\n",
            "\n",
            "Вектор:\n",
            "[[6]\n",
            " [7]\n",
            " [8]\n",
            " [1]]\n",
            "\n",
            "Добуток матриці на вектор:\n",
            "[[98]\n",
            " [75]\n",
            " [76]]\n"
          ]
        }
      ]
    },
    {
      "cell_type": "markdown",
      "source": [
        "Завдання 11\n",
        "1. Створіть матрицю розміром 2x3 та вектор розміром 3x1, заповніть матрицю\n",
        "випадковими цілими числами в діапазоні від 1 до 10, а вектор - випадковими цілими\n",
        "числами в діапазоні від 1 до 10, і знайдіть добуток матриці на вектор."
      ],
      "metadata": {
        "id": "vDq91WQ_iREY"
      }
    },
    {
      "cell_type": "code",
      "source": [
        "import numpy as np\n",
        "\n",
        "a = np.random.randint(1, 11, size=(2, 3))\n",
        "print(\"Матриця:\")\n",
        "print(a)\n",
        "\n",
        "v = np.random.randint(1, 11, size=(3, 1))\n",
        "print(\"\\nВектор:\")\n",
        "print(v)\n",
        "\n",
        "c = np.dot(a, v)\n",
        "print(\"\\nДобуток матриці на вектор:\")\n",
        "print(c)\n"
      ],
      "metadata": {
        "id": "sB01Sz7MiTb6"
      },
      "execution_count": null,
      "outputs": []
    },
    {
      "cell_type": "markdown",
      "source": [
        "Завдання 12\n",
        "1. Створіть дві матриці розміром 2x2, заповніть їх випадковими цілими числами в\n",
        "діапазоні від 1 до 10 та знайдіть їхню суму."
      ],
      "metadata": {
        "id": "5Y1tDypqireO"
      }
    },
    {
      "cell_type": "code",
      "source": [
        "import numpy as np\n",
        "\n",
        "a = np.random.randint(1, 11, size=(2, 2))\n",
        "b = np.random.randint(1, 11, size=(2, 2))\n",
        "\n",
        "print(\"Матриця 1:\")\n",
        "print(a)\n",
        "\n",
        "print(\"\\nМатриця 2:\")\n",
        "print(b)\n",
        "\n",
        "c = a + b\n",
        "print(\"\\nСума матриць:\")\n",
        "print(c)\n"
      ],
      "metadata": {
        "id": "lQfcKbMVit4Q"
      },
      "execution_count": null,
      "outputs": []
    },
    {
      "cell_type": "markdown",
      "source": [
        "Завдання 13\n",
        "1. Створіть дві матриці розміром 2x2, заповніть їх випадковими дійсними числами в\n",
        "діапазоні від 0 до 1 та знайдіть їх добуток."
      ],
      "metadata": {
        "id": "r30EW2DPkYMt"
      }
    },
    {
      "cell_type": "code",
      "source": [
        "import numpy as np\n",
        "\n",
        "a = np.random.rand(2, 2)\n",
        "b = np.random.rand(2, 2)\n",
        "\n",
        "print(\"Матриця 1:\")\n",
        "print(a)\n",
        "\n",
        "print(\"\\nМатриця 2:\")\n",
        "print(b)\n",
        "\n",
        "c = np.dot(a, b)\n",
        "print(\"\\nДобуток матриць:\")\n",
        "print(c)\n"
      ],
      "metadata": {
        "colab": {
          "base_uri": "https://localhost:8080/"
        },
        "id": "DN40mDgDkaK2",
        "outputId": "f5ca5de0-7e4e-4fb9-e6e4-5f843f0b24a4"
      },
      "execution_count": 16,
      "outputs": [
        {
          "output_type": "stream",
          "name": "stdout",
          "text": [
            "Матриця 1:\n",
            "[[0.89879375 0.35432363]\n",
            " [0.49206633 0.61188404]]\n",
            "\n",
            "Матриця 2:\n",
            "[[0.29868058 0.80050328]\n",
            " [0.93815913 0.34758086]]\n",
            "\n",
            "Добуток матриць:\n",
            "[[0.60086419 0.84264345]\n",
            " [0.72101526 0.60657989]]\n"
          ]
        }
      ]
    },
    {
      "cell_type": "markdown",
      "source": [
        "Завдання 14\n",
        "1. Створіть матрицю розміром 5x5, заповніть її випадковими дійсними числами в\n",
        "діапазоні від 0 до 1 та знайдіть суму елементів матриці.\n"
      ],
      "metadata": {
        "id": "GhetjrD2kx0n"
      }
    },
    {
      "cell_type": "code",
      "source": [
        "import numpy as np\n",
        "\n",
        "a = np.random.rand(5, 5)\n",
        "print(\"Матриця:\")\n",
        "print(a)\n",
        "\n",
        "b = np.sum(a)\n",
        "print(\"\\nСума елементів матриці:\")\n",
        "print(b)\n"
      ],
      "metadata": {
        "colab": {
          "base_uri": "https://localhost:8080/"
        },
        "id": "CAT3YIfFk1G-",
        "outputId": "6f33d29f-0b50-4f63-bcf2-8ee733ecc345"
      },
      "execution_count": 17,
      "outputs": [
        {
          "output_type": "stream",
          "name": "stdout",
          "text": [
            "Матриця:\n",
            "[[0.62869949 0.66346603 0.83450666 0.845187   0.40112175]\n",
            " [0.45939893 0.06723311 0.64833778 0.79642173 0.96303797]\n",
            " [0.21917028 0.50838672 0.82641939 0.83638463 0.79549126]\n",
            " [0.12196575 0.47799374 0.20047183 0.68308928 0.32288218]\n",
            " [0.94109102 0.4202578  0.40205977 0.17047895 0.96067918]]\n",
            "\n",
            "Сума елементів матриці:\n",
            "14.194232243172522\n"
          ]
        }
      ]
    },
    {
      "cell_type": "markdown",
      "source": [
        "Завдання 15\n",
        "1. Створіть матрицю розміром 3x3, заповніть її випадковими дійсними числами в\n",
        "діапазоні від -1 до 1 та знайдіть вектор-стовпчик, що містить суму елементів кожного\n",
        "рядка матриці."
      ],
      "metadata": {
        "id": "hrPANCUzlqhY"
      }
    },
    {
      "cell_type": "code",
      "source": [
        "import numpy as np\n",
        "\n",
        "a = 2 * np.random.rand(3, 3) - 1\n",
        "print(\"Матриця:\")\n",
        "print(a)\n",
        "\n",
        "row_sums = np.sum(a, axis=1).reshape(-1, 1)\n",
        "print(\"\\nВектор-стовпчик з сумою елементів кожного рядка:\")\n",
        "print(row_sums)\n"
      ],
      "metadata": {
        "colab": {
          "base_uri": "https://localhost:8080/"
        },
        "id": "uH1QCywKlswg",
        "outputId": "14effa9a-9b29-47b1-8a68-79b2021c62a1"
      },
      "execution_count": 18,
      "outputs": [
        {
          "output_type": "stream",
          "name": "stdout",
          "text": [
            "Матриця:\n",
            "[[ 0.34134096 -0.80570747  0.83358182]\n",
            " [ 0.91883515 -0.01144293 -0.27159394]\n",
            " [-0.69519827  0.50012398 -0.45986279]]\n",
            "\n",
            "Вектор-стовпчик з сумою елементів кожного рядка:\n",
            "[[ 0.36921531]\n",
            " [ 0.63579828]\n",
            " [-0.65493709]]\n"
          ]
        }
      ]
    }
  ]
}